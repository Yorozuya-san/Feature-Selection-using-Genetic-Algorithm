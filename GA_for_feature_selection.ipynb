{
  "nbformat": 4,
  "nbformat_minor": 0,
  "metadata": {
    "colab": {
      "name": "GA for feature selection.ipynb",
      "version": "0.3.2",
      "provenance": [],
      "collapsed_sections": []
    },
    "kernelspec": {
      "name": "python3",
      "display_name": "Python 3"
    }
  },
  "cells": [
    {
      "cell_type": "code",
      "metadata": {
        "id": "Egi_zbKYF3UA",
        "colab_type": "code",
        "colab": {}
      },
      "source": [
        "from keras import Sequential\n",
        "from keras.layers import Dense\n",
        "from keras import regularizers\n",
        "import pandas as pd\n",
        "from random import randint\n",
        "import numpy as np\n",
        "from numpy.random import normal"
      ],
      "execution_count": 0,
      "outputs": []
    },
    {
      "cell_type": "markdown",
      "metadata": {
        "id": "6g2m9gq3NWI6",
        "colab_type": "text"
      },
      "source": [
        "#Utility Functions"
      ]
    },
    {
      "cell_type": "code",
      "metadata": {
        "id": "ZM79KUpCNZSU",
        "colab_type": "code",
        "colab": {}
      },
      "source": [
        "def show_features(pop):\n",
        "  features = []\n",
        "  no_of_features = 0\n",
        "  for i in range(len(pop)):\n",
        "\n",
        "    if pop[i]==1:\n",
        "      features.append(i)\n",
        "      no_of_features += 1\n",
        "  return features, no_of_features"
      ],
      "execution_count": 0,
      "outputs": []
    },
    {
      "cell_type": "code",
      "metadata": {
        "id": "c5hlwr0mNwBP",
        "colab_type": "code",
        "colab": {}
      },
      "source": [
        "def find_index_value(x,prob):\n",
        "    for i in range(len(prob)):\n",
        "        if x<prob[i]:\n",
        "            return i\n",
        "    return len(prob)-1"
      ],
      "execution_count": 0,
      "outputs": []
    },
    {
      "cell_type": "markdown",
      "metadata": {
        "id": "V8GeYYNpMzje",
        "colab_type": "text"
      },
      "source": [
        "#Convert to binary encoding"
      ]
    },
    {
      "cell_type": "code",
      "metadata": {
        "id": "aSNdYmF0EuGC",
        "colab_type": "code",
        "colab": {}
      },
      "source": [
        "def conver_bin(a):\n",
        "    x = []\n",
        "    while a>0:\n",
        "        x.append(a%2)\n",
        "        a //= 2\n",
        "    x.reverse()\n",
        "    return x"
      ],
      "execution_count": 0,
      "outputs": []
    },
    {
      "cell_type": "markdown",
      "metadata": {
        "id": "rer0_NvyM6V7",
        "colab_type": "text"
      },
      "source": [
        "#Initialize population"
      ]
    },
    {
      "cell_type": "code",
      "metadata": {
        "id": "Y8BpvNgEFUV2",
        "colab_type": "code",
        "colab": {}
      },
      "source": [
        "def init_pop(number_bits, size):\n",
        "    \n",
        "    #taking samples over the distributtion\n",
        "    #such that no. of 0 almost= no. of 1\n",
        "    \n",
        "    tot = int(2**number_bits)\n",
        "    u = tot // size\n",
        "    l = 1\n",
        "    pop = []\n",
        "    for i in range(size):\n",
        "        p =[]\n",
        "        num = randint(l,u)\n",
        "        p = conver_bin(num)\n",
        "        p = ([0]*(number_bits-len(p))) + p\n",
        "        l = u+1\n",
        "        u = (i+2) * (tot//size)\n",
        "        pop.append(p)\n",
        "    return pop"
      ],
      "execution_count": 0,
      "outputs": []
    },
    {
      "cell_type": "markdown",
      "metadata": {
        "id": "9Zf2yl3VNA-X",
        "colab_type": "text"
      },
      "source": [
        "#Fitness Fuction (NN)"
      ]
    },
    {
      "cell_type": "code",
      "metadata": {
        "id": "Q2YGeSZ9FYCX",
        "colab_type": "code",
        "colab": {}
      },
      "source": [
        "def fitness(chromo,x,y):\n",
        "  \n",
        "  chromo = np.asarray(chromo)\n",
        "  x = np.multiply(x,chromo)\n",
        "  #print(chromo.shape,x.shape)\n",
        "    \n",
        "  model = Sequential()\n",
        "\n",
        "  model.add(Dense(10,activation='relu',activity_regularizer=regularizers.l2(0.01)))\n",
        "  #model.add(Dense(10,activation='relu',activity_regularizer=regularizers.l2(0.01)))\n",
        "  model.add(Dense(2,activation = 'sigmoid'))\n",
        "  model.compile(loss='binary_crossentropy',\n",
        "                optimizer='adam',metrics=['accuracy'])\n",
        "  \n",
        "  h= model.fit(x, y,\n",
        "          batch_size=50,\n",
        "          epochs=10,\n",
        "          verbose=1)\n",
        "  \n",
        "  acc = h.history['acc'][-1]\n",
        "  w_acc = 0.75\n",
        "  w_f = 0.25\n",
        "  value = acc #/ len(show_features(chromo)[0])\n",
        "  \n",
        "  return value"
      ],
      "execution_count": 0,
      "outputs": []
    },
    {
      "cell_type": "markdown",
      "metadata": {
        "id": "2zo231ozN31_",
        "colab_type": "text"
      },
      "source": [
        "#Roulette Wheel Selection Technique"
      ]
    },
    {
      "cell_type": "code",
      "metadata": {
        "id": "6XX43vBOFcc0",
        "colab_type": "code",
        "colab": {}
      },
      "source": [
        "def roul(size, fit,pop,number_bits):\n",
        "    tot = sum(fit)\n",
        "    prob = [round((fit[0]/tot)*1000)]\n",
        "    \n",
        "    for i in range(1,size):\n",
        "        x = fit[i]/tot\n",
        "        x = round(x*1000)\n",
        "        prob.append(prob[-1]+x)\n",
        "\n",
        "    sel = []\n",
        "    len_prob = len(prob)\n",
        "    \n",
        "    #using the *1000 and cumilative freq one\n",
        "    for i in range(size//2):\n",
        "        x = find_index_value(randint(1,999),prob)\n",
        "        sel.append(pop[x])\n",
        "        y = find_index_value(randint(1,999),prob)\n",
        "        while x==y:\n",
        "            y = find_index_value(randint(1,999),prob)\n",
        "        sel.append(pop[y])\n",
        "    \n",
        "    return sel"
      ],
      "execution_count": 0,
      "outputs": []
    },
    {
      "cell_type": "markdown",
      "metadata": {
        "id": "7DaWfNx_N8fW",
        "colab_type": "text"
      },
      "source": [
        "#Crosser Over"
      ]
    },
    {
      "cell_type": "code",
      "metadata": {
        "id": "AmblZUXAFd8q",
        "colab_type": "code",
        "colab": {}
      },
      "source": [
        "def cross_over(selected, size, number_bits, cross_over_type='single'):\n",
        "    if cross_over_type=='single':\n",
        "        cross_over_sites = []\n",
        "        for i in range(size//2):\n",
        "            x = randint(1,number_bits-2)\n",
        "            while x in cross_over_sites:\n",
        "                x = randint(1,number_bits-2)\n",
        "            cross_over_sites.append(x)\n",
        "\n",
        "        pop = []\n",
        "\n",
        "        for i in range(size//2):\n",
        "            a = selected[i*2][:cross_over_sites[i]] + selected[i*2+1][cross_over_sites[i]:]\n",
        "            b = selected[i*2+1][:cross_over_sites[i]] + selected[i*2][cross_over_sites[i]:]\n",
        "            pop.append(a)\n",
        "            pop.append(b)\n",
        "            \n",
        "    if cross_over_type=='uniform':\n",
        "        cross_over_sites = []\n",
        "        \n",
        "        for i in range(size//2):\n",
        "            temp_sites = []\n",
        "            for j in range(randint(number_bits//2-2,number_bits//2+2)):\n",
        "                temp_sites.append(randint(0,number_bits-1))\n",
        "            cross_over_sites.append(temp_sites)\n",
        "        \n",
        "        pop = []\n",
        "        \n",
        "        for i in range(size//2):\n",
        "            a = selected[i*2]\n",
        "            b = selected[i*2+1]\n",
        "            \n",
        "            for j in cross_over_sites[i]:\n",
        "                a[j], b[j] = b[j], a[j]\n",
        "            \n",
        "            pop.append(a)\n",
        "            pop.append(b)\n",
        "          \n",
        "    return pop, cross_over_sites"
      ],
      "execution_count": 0,
      "outputs": []
    },
    {
      "cell_type": "markdown",
      "metadata": {
        "id": "XJPZhboROAf9",
        "colab_type": "text"
      },
      "source": [
        "#Mutation Using Normal Method|"
      ]
    },
    {
      "cell_type": "code",
      "metadata": {
        "id": "AWaI0M5AFfa8",
        "colab_type": "code",
        "colab": {}
      },
      "source": [
        "def mutation(pop, mu_prob):\n",
        "    tot = 0\n",
        "    for i in pop:\n",
        "        for j in range(len(i)):\n",
        "            if normal(3,1) < mu_prob: #check this dis\n",
        "                i[j] = (i[j]+1)%2\n",
        "                tot += 1\n",
        "    return pop, tot"
      ],
      "execution_count": 0,
      "outputs": []
    },
    {
      "cell_type": "markdown",
      "metadata": {
        "id": "jpbqSukxOR8m",
        "colab_type": "text"
      },
      "source": [
        "#Running GA"
      ]
    },
    {
      "cell_type": "code",
      "metadata": {
        "id": "-uW9AayGFhIk",
        "colab_type": "code",
        "colab": {}
      },
      "source": [
        "# change this to its proper form\n",
        "gen = 5\n",
        "size = 6\n",
        "number_bits = 29#do not make number_bits<size : screws up algo\n",
        "mu_prob = 0.8\n",
        "#mu_prob is not a prob but a value between 0 to 6 (normal dist graph with mean 3 and std 1)\n",
        "pop = init_pop(number_bits, size)\n"
      ],
      "execution_count": 0,
      "outputs": []
    },
    {
      "cell_type": "code",
      "metadata": {
        "id": "0ks6sCPQFlEw",
        "colab_type": "code",
        "colab": {}
      },
      "source": [
        "features =[]\n",
        "feature_fit = []"
      ],
      "execution_count": 0,
      "outputs": []
    },
    {
      "cell_type": "code",
      "metadata": {
        "id": "chLv70vPFnON",
        "colab_type": "code",
        "colab": {}
      },
      "source": [
        "for i in range(gen):\n",
        "    fit = []\n",
        "    \n",
        "    print('==============================================================================================')\n",
        "    print('\\n\\nGen',i)\n",
        "    \n",
        "    \n",
        "    #====================== eval fitness ======================\n",
        "    for j in range(size):\n",
        "        fit.append(fitness(pop[j],x_train,y_train))\n",
        "        print('chromo:',j)\n",
        "    \n",
        "    avg, mx = sum(fit), max(fit)\n",
        "    avg /= size\n",
        "    best_in_gen = pop[fit.index(mx)]\n",
        "    \n",
        "    \n",
        "    #====================== selecting the chormosomes using roulette wheel method ======================\n",
        "    selected = roul(size,fit,pop, number_bits)\n",
        "    \n",
        "    #print('\\nSelected pop',selected)\n",
        "    \n",
        "    \n",
        "    #====================== crossover of chromosomes ======================\n",
        "    pop, cross_over_sites = cross_over(selected,size,number_bits,cross_over_type='uniform')\n",
        "    \n",
        "    #print('\\nNew pop', pop)\n",
        "    #print('\\nCross over sites', cross_over_sites)\n",
        "    \n",
        "    \n",
        "    #============== mutation ====================================\n",
        "    pop,tot_mu = mutation(pop,mu_prob)\n",
        "    #print('\\nAfter mutation', pop)\n",
        "    #print('\\nTotal mutations', tot_mu)\n",
        "    \n",
        "    \n",
        "    #====================== analysis of new generation ======================\n",
        "   \n",
        "    \n",
        "    print('\\nMax : {}\\nAvg : {}'.format(mx,avg))\n",
        "    _,num_features = show_features(pop)\n",
        "    print('Number of features of best in gen: ',num_features)\n",
        "    features = pop\n",
        "    feature_fit = fit"
      ],
      "execution_count": 0,
      "outputs": []
    },
    {
      "cell_type": "code",
      "metadata": {
        "id": "_vFP_4A2FsB0",
        "colab_type": "code",
        "colab": {}
      },
      "source": [
        "for j in range(size):\n",
        "  print(fitness(features[j],x_train,y_train))"
      ],
      "execution_count": 0,
      "outputs": []
    },
    {
      "cell_type": "code",
      "metadata": {
        "id": "yrFKL2vcFycq",
        "colab_type": "code",
        "colab": {}
      },
      "source": [
        "f,num_features = show_features(features[feature_fit.index(max(feature_fit))])\n",
        "fitness(features[feature_fit.index(max(feature_fit))],x_train,y_train)\n",
        "print(f)\n",
        "print(num_features)"
      ],
      "execution_count": 0,
      "outputs": []
    }
  ]
}